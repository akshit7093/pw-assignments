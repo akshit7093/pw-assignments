{
 "cells": [
  {
   "cell_type": "markdown",
   "id": "ddeef3be",
   "metadata": {},
   "source": [
    "Q1, Create a vehicle class with an init method having instance variables as name_of_vehicle, max_speed\n",
    "and average_of_vehicle."
   ]
  },
  {
   "cell_type": "code",
   "execution_count": 1,
   "id": "4e7e40df",
   "metadata": {},
   "outputs": [
    {
     "name": "stdout",
     "output_type": "stream",
     "text": [
      "Name of Vehicle: Honda city\n",
      "Max Speed: 250\n",
      "Average Speed of Vehicle: 60\n"
     ]
    }
   ],
   "source": [
    "class Vehicle:\n",
    "    def __init__(self, name_of_vehicle, max_speed, average_of_vehicle):\n",
    "        self.name_of_vehicle = name_of_vehicle\n",
    "        self.max_speed = max_speed\n",
    "        self.average_of_vehicle = average_of_vehicle\n",
    "\n",
    "car = Vehicle(\"Honda city\", 250, 60)\n",
    "print(\"Name of Vehicle:\", car.name_of_vehicle)\n",
    "print(\"Max Speed:\", car.max_speed)\n",
    "print(\"Average Speed of Vehicle:\", car.average_of_vehicle)\n"
   ]
  },
  {
   "cell_type": "markdown",
   "id": "dc5f3492-e326-4865-a18e-7db8f606e48a",
   "metadata": {},
   "source": [
    "Q2. Create a child class car from the vehicle class created in Que 1, which will inherit the vehicle class.\n",
    "Create a method named seating_capacity which takes capacity as an argument and returns the name of\n",
    "the vehicle and its seating capacity."
   ]
  },
  {
   "cell_type": "code",
   "execution_count": 2,
   "id": "972f0d4f-0eec-425b-b53e-55c74692193e",
   "metadata": {},
   "outputs": [
    {
     "name": "stdout",
     "output_type": "stream",
     "text": [
      "The Honda city has a seating capacity of 4.\n",
      "Name of Vehicle: Honda city\n",
      "Max Speed: 250\n",
      "Average Speed of Vehicle: 60\n"
     ]
    }
   ],
   "source": [
    "class Vehicle:\n",
    "    def __init__(self, name_of_vehicle, max_speed, average_of_vehicle):\n",
    "        self.name_of_vehicle = name_of_vehicle\n",
    "        self.max_speed = max_speed\n",
    "        self.average_of_vehicle = average_of_vehicle\n",
    "\n",
    "class Car(Vehicle):  \n",
    "    def seating_capacity(self, capacity):\n",
    "        return f\"The {self.name_of_vehicle} has a seating capacity of {capacity}.\"\n",
    "car = Car(\"Honda city\", 250, 60)\n",
    "print(car.seating_capacity(4)) \n",
    "print(\"Name of Vehicle:\", car.name_of_vehicle)\n",
    "print(\"Max Speed:\", car.max_speed)\n",
    "print(\"Average Speed of Vehicle:\", car.average_of_vehicle)\n",
    "\n"
   ]
  },
  {
   "cell_type": "markdown",
   "id": "eef24107-93a2-4f1e-b85d-0caad7b05511",
   "metadata": {},
   "source": [
    "Q3. What is multiple inheritance? Write a python code to demonstrate multiple inheritance."
   ]
  },
  {
   "cell_type": "markdown",
   "id": "9047ffe2-ec95-4bd7-bbfe-c17a0bc7e8b9",
   "metadata": {},
   "source": [
    "Ans- Multiple inheritance is a feature of some object-oriented programming languages where a class can inherit attributes and methods from more than one parent class. In Python, a class can inherit from multiple parent classes, allowing it to combine features from all of them. This can be useful for creating classes with complex behaviors that are composed of features from different sources."
   ]
  },
  {
   "cell_type": "code",
   "execution_count": 3,
   "id": "7b308af6-f43a-4961-be20-7f90c3b1a151",
   "metadata": {},
   "outputs": [
    {
     "name": "stdout",
     "output_type": "stream",
     "text": [
      "Car - Name: Honda city\n",
      "Car - Max Speed: 200\n",
      "Car - Average Speed: 5\n",
      "Car - Manufacturer: Honda Motor Corporation\n",
      "The Honda city has a seating capacity of 4.\n"
     ]
    }
   ],
   "source": [
    "class Manufacturer:\n",
    "    def __init__(self, manufacturer_name):\n",
    "        self.manufacturer_name = manufacturer_name\n",
    "\n",
    "    def get_manufacturer_name(self):\n",
    "        return self.manufacturer_name\n",
    "\n",
    "class Vehicle:\n",
    "    def __init__(self, name_of_vehicle, max_speed, average_of_vehicle):\n",
    "        self.name_of_vehicle = name_of_vehicle\n",
    "        self.max_speed = max_speed\n",
    "        self.average_of_vehicle = average_of_vehicle\n",
    "\n",
    "class Car(Vehicle, Manufacturer): \n",
    "    def __init__(self, name_of_vehicle, max_speed, average_of_vehicle, manufacturer_name):\n",
    "        # Call __init__ method of both Vehicle and Manufacturer classes\n",
    "        Vehicle.__init__(self, name_of_vehicle, max_speed, average_of_vehicle)\n",
    "        Manufacturer.__init__(self, manufacturer_name)\n",
    "\n",
    "    def seating_capacity(self, capacity):\n",
    "        return f\"The {self.name_of_vehicle} has a seating capacity of {capacity}.\"\n",
    "\n",
    "\n",
    "car = Car(\"Honda city\", 200, 5, \"Honda Motor Corporation\")\n",
    "\n",
    "\n",
    "print(\"Car - Name:\", car.name_of_vehicle)\n",
    "print(\"Car - Max Speed:\", car.max_speed)\n",
    "print(\"Car - Average Speed:\", car.average_of_vehicle)\n",
    "print(\"Car - Manufacturer:\", car.get_manufacturer_name())\n",
    "print(car.seating_capacity(4))\n"
   ]
  },
  {
   "cell_type": "raw",
   "id": "b8ab8179-95e3-42fc-bd9a-2e82ccc860e2",
   "metadata": {},
   "source": [
    "Q4. What are getter and setter in python? Create a class and create a getter and a setter method in this\n",
    "class."
   ]
  },
  {
   "cell_type": "raw",
   "id": "fff5908d-c3bd-45e1-84a7-b409321af491",
   "metadata": {},
   "source": [
    "Ans- Getter and setter methods are used to access and modify the private attributes of a class, respectively. These methods provide an interface to manipulate the attributes of an object while encapsulating them, which helps in controlling access to the data and maintaining data integrity."
   ]
  },
  {
   "cell_type": "code",
   "execution_count": 4,
   "id": "b40b94a5-b475-4bd7-8996-c5c67af1aa71",
   "metadata": {},
   "outputs": [
    {
     "name": "stdout",
     "output_type": "stream",
     "text": [
      "Car - Name: Honda city\n",
      "Car - Max Speed: 200\n",
      "Car - Average Speed: 5\n",
      "Car - Manufacturer: Honda Motor Corporation\n",
      "Modified Car - Manufacturer: Toyota Motor Corporation\n",
      "The Honda city has a seating capacity of 4.\n"
     ]
    }
   ],
   "source": [
    "class Manufacturer:\n",
    "    def __init__(self, manufacturer_name):\n",
    "        self.__manufacturer_name = manufacturer_name  \n",
    "\n",
    "\n",
    "    def get_manufacturer_name(self):\n",
    "        return self.__manufacturer_name\n",
    "\n",
    "    def set_manufacturer_name(self, manufacturer_name):\n",
    "        self.__manufacturer_name = manufacturer_name\n",
    "\n",
    "class Vehicle:\n",
    "    def __init__(self, name_of_vehicle, max_speed, average_of_vehicle):\n",
    "        self.name_of_vehicle = name_of_vehicle\n",
    "        self.max_speed = max_speed\n",
    "        self.average_of_vehicle = average_of_vehicle\n",
    "\n",
    "class Car(Vehicle, Manufacturer): \n",
    "    def __init__(self, name_of_vehicle, max_speed, average_of_vehicle, manufacturer_name):\n",
    "    \n",
    "        Vehicle.__init__(self, name_of_vehicle, max_speed, average_of_vehicle)\n",
    "        Manufacturer.__init__(self, manufacturer_name)\n",
    "\n",
    "    def seating_capacity(self, capacity):\n",
    "        return f\"The {self.name_of_vehicle} has a seating capacity of {capacity}.\"\n",
    "\n",
    "car = Car(\"Honda city\", 200, 5, \"Honda Motor Corporation\")\n",
    "\n",
    "print(\"Car - Name:\", car.name_of_vehicle)\n",
    "print(\"Car - Max Speed:\", car.max_speed)\n",
    "print(\"Car - Average Speed:\", car.average_of_vehicle)\n",
    "print(\"Car - Manufacturer:\", car.get_manufacturer_name())\n",
    "\n",
    "\n",
    "car.set_manufacturer_name(\"Toyota Motor Corporation\")\n",
    "print(\"Modified Car - Manufacturer:\", car.get_manufacturer_name())\n",
    "\n",
    "print(car.seating_capacity(4))\n"
   ]
  },
  {
   "cell_type": "raw",
   "id": "c233ccea-1906-4aed-bdec-1e8ac05ca027",
   "metadata": {},
   "source": [
    "Q5.What is method overriding in python? Write a python code to demonstrate method overriding."
   ]
  },
  {
   "cell_type": "raw",
   "id": "258b5a23-9e1d-4c92-8f64-939892565ea8",
   "metadata": {},
   "source": [
    "Ans- Method overriding in Python occurs when a subclass provides a specific implementation of a method that is already defined in its superclass. This allows the subclass to provide its own behavior for that method, effectively replacing or overriding the behavior defined in the superclass."
   ]
  },
  {
   "cell_type": "code",
   "execution_count": 5,
   "id": "dce7f28c-9ddc-4a7a-937f-570e84fa2f31",
   "metadata": {},
   "outputs": [
    {
     "name": "stdout",
     "output_type": "stream",
     "text": [
      "Animal makes a sound\n",
      "Bark bark!\n"
     ]
    }
   ],
   "source": [
    "class Animal:\n",
    "    def make_sound(self):\n",
    "        return \"Animal makes a sound\"\n",
    "\n",
    "class Dog(Animal):\n",
    "    def make_sound(self):\n",
    "        return \"Bark bark!\"\n",
    "\n",
    "animal = Animal()\n",
    "dog = Dog()\n",
    "\n",
    "\n",
    "print(animal.make_sound())  \n",
    "print(dog.make_sound())     \n"
   ]
  },
  {
   "cell_type": "code",
   "execution_count": null,
   "id": "f44eb480-d2e6-470e-b1a1-ee3c4ef56705",
   "metadata": {},
   "outputs": [],
   "source": [
    "\n"
   ]
  },
  {
   "cell_type": "code",
   "execution_count": null,
   "id": "7fd42b88",
   "metadata": {},
   "outputs": [],
   "source": []
  }
 ],
 "metadata": {
  "kernelspec": {
   "display_name": "Python 3 (ipykernel)",
   "language": "python",
   "name": "python3"
  },
  "language_info": {
   "codemirror_mode": {
    "name": "ipython",
    "version": 3
   },
   "file_extension": ".py",
   "mimetype": "text/x-python",
   "name": "python",
   "nbconvert_exporter": "python",
   "pygments_lexer": "ipython3",
   "version": "3.11.9"
  }
 },
 "nbformat": 4,
 "nbformat_minor": 5
}
