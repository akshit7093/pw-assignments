{
 "cells": [
  {
   "cell_type": "markdown",
   "metadata": {},
   "source": [
    "Q1. What is Abstraction in OOps? Explain with an example."
   ]
  },
  {
   "cell_type": "markdown",
   "metadata": {},
   "source": [
    "Ans- \n",
    "Abstraction in object-oriented programming (OOP) is the concept of hiding the complex implementation details of a class and showing only the essential features of an object to the outside world. It focuses on what an object does rather than how it does it. Abstraction allows us to represent real-world entities as classes and objects with properties and behaviors relevant to the problem domain, without concerning ourselves with the intricate implementation details."
   ]
  },
  {
   "cell_type": "code",
   "execution_count": 1,
   "metadata": {},
   "outputs": [
    {
     "name": "stdout",
     "output_type": "stream",
     "text": [
      "The Ford Mustang accelerates to 50 km/h.\n",
      "The Honda City accelerates to 60 km/h.\n",
      "The Ford Mustang slows down to 30 km/h.\n",
      "The Honda City slows down to 20 km/h.\n",
      "The Ford Mustang accelerates to 110 km/h.\n",
      "The car has already stopped.\n",
      "The Ford Mustang slows down to 60 km/h.\n"
     ]
    }
   ],
   "source": [
    "class Car:\n",
    "    def __init__(self, brand, model):\n",
    "        self.brand = brand\n",
    "        self.model = model\n",
    "        self.speed = 0\n",
    "\n",
    "    def accelerate(self, speed_increase):\n",
    "        self.speed += speed_increase\n",
    "        print(f\"The {self.brand} {self.model} accelerates to {self.speed} km/h.\")\n",
    "\n",
    "    def brake(self, speed_decrease):\n",
    "        if self.speed - speed_decrease >= 0:\n",
    "            self.speed -= speed_decrease\n",
    "            print(f\"The {self.brand} {self.model} slows down to {self.speed} km/h.\")\n",
    "        else:\n",
    "            print(\"The car has already stopped.\")\n",
    "\n",
    "# Creating instances of Car class\n",
    "car1 = Car(\"Ford\", \"Mustang\")\n",
    "car2 = Car(\"Honda\", \"City\")\n",
    "\n",
    "# Accessing methods to control the cars\n",
    "car1.accelerate(50)  # Output: The Toyota Corolla accelerates to 50 km/h.\n",
    "car2.accelerate(60)  # Output: The Honda Civic accelerates to 60 km/h.\n",
    "\n",
    "car1.brake(20)      # Output: The Toyota Corolla slows down to 30 km/h.\n",
    "car2.brake(40)      # Output: The Honda Civic slows down to 20 km/h.\n",
    "\n",
    "car1.accelerate(80)  # Output: The Toyota Corolla accelerates to 110 km/h.\n",
    "car2.brake(30)      # Output: The Honda Civic slows down to 0 km/h.\n",
    "\n",
    "car1.brake(50)      # Output: The Toyota Corolla has already stopped.\n"
   ]
  },
  {
   "cell_type": "markdown",
   "metadata": {},
   "source": [
    "Q2. Differentiate between Abstraction and Encapsulation. Explain with an example."
   ]
  },
  {
   "cell_type": "markdown",
   "metadata": {},
   "source": [
    "Ans- \n",
    "Abstraction and encapsulation are two important concepts in object-oriented programming (OOP), but they serve different purposes.\n",
    "\n",
    "Abstraction focuses on the outside view of an object and hides the complex implementation details from the user. It deals with showing only the essential features of an object while hiding the unnecessary details. Abstraction allows us to represent real-world entities as classes and objects with properties and behaviors relevant to the problem domain, without concerning ourselves with the intricate implementation details.\n",
    "\n",
    "Encapsulation, on the other hand, is the bundling of data (attributes) and methods (behaviors) that operate on the data into a single unit called a class. It hides the internal state of an object from the outside world and only exposes a controlled interface to interact with the object. Encapsulation ensures that the implementation details of a class are hidden from the users, providing data protection and promoting modularity and code organization."
   ]
  },
  {
   "cell_type": "code",
   "execution_count": 3,
   "metadata": {},
   "outputs": [
    {
     "name": "stdout",
     "output_type": "stream",
     "text": [
      "Car brand (Honda City): Honda\n",
      "Car brand (Ford Mustang): Ford\n",
      "Car model (Honda City): City\n",
      "Car model (Ford Mustang): Mustang\n",
      "Car speed (Honda City): 0\n",
      "Car speed (Ford Mustang): 0\n",
      "The Honda City accelerates to 60 km/h.\n",
      "The Ford Mustang accelerates to 100 km/h.\n"
     ]
    }
   ],
   "source": [
    "class Car:\n",
    "    def __init__(self, brand, model):\n",
    "        self.brand = brand  # Encapsulation: Brand is encapsulated as an attribute.\n",
    "        self.model = model  # Encapsulation: Model is encapsulated as an attribute.\n",
    "        self.speed = 0      # Encapsulation: Speed is encapsulated as an attribute.\n",
    "\n",
    "    def accelerate(self, speed_increase):  # Abstraction: User interacts with the car through high-level methods.\n",
    "        self.speed += speed_increase\n",
    "        print(f\"The {self.brand} {self.model} accelerates to {self.speed} km/h.\")\n",
    "\n",
    "# Creating instances of the Car class for Honda City and Ford Mustang\n",
    "honda_city = Car(\"Honda\", \"City\")\n",
    "ford_mustang = Car(\"Ford\", \"Mustang\")\n",
    "\n",
    "# Accessing the brand attribute directly (not encapsulated, but visible)\n",
    "print(\"Car brand (Honda City):\", honda_city.brand)  # Output: Car brand (Honda City): Honda\n",
    "print(\"Car brand (Ford Mustang):\", ford_mustang.brand)  # Output: Car brand (Ford Mustang): Ford\n",
    "\n",
    "# Accessing the model attribute directly (not encapsulated, but visible)\n",
    "print(\"Car model (Honda City):\", honda_city.model)  # Output: Car model (Honda City): City\n",
    "print(\"Car model (Ford Mustang):\", ford_mustang.model)  # Output: Car model (Ford Mustang): Mustang\n",
    "\n",
    "# Accessing the speed attribute directly (not encapsulated, but visible)\n",
    "print(\"Car speed (Honda City):\", honda_city.speed)  # Output: Car speed (Honda City): 0\n",
    "print(\"Car speed (Ford Mustang):\", ford_mustang.speed)  # Output: Car speed (Ford Mustang): 0\n",
    "\n",
    "# Calling the accelerate method to interact with the cars (abstraction)\n",
    "honda_city.accelerate(60)  # Output: The Honda City accelerates to 60 km/h.\n",
    "ford_mustang.accelerate(100)  # Output: The Ford Mustang accelerates to 100 km/h.\n"
   ]
  },
  {
   "cell_type": "markdown",
   "metadata": {},
   "source": [
    "Q3. What is abc module in python? Why is it used?"
   ]
  },
  {
   "cell_type": "markdown",
   "metadata": {},
   "source": [
    "Ans- abc module in Python stands for \"Abstract Base Classes.\" It allows you to define abstract base classes with abstract methods that must be implemented by subclasses. This promotes interface consistency, facilitates polymorphism, and provides a common API for related classes. By enforcing method implementation in subclasses, it ensures adherence to a specified interface contract."
   ]
  },
  {
   "cell_type": "markdown",
   "metadata": {},
   "source": [
    "Q4. How can we achieve data abstraction?"
   ]
  },
  {
   "cell_type": "markdown",
   "metadata": {},
   "source": [
    "Ans- data abstraction in Python can be achieved through:\n",
    "\n",
    "Encapsulation: Bundling data and methods into a single unit (class) and controlling access to data through methods.\n",
    "Naming Conventions: Using naming conventions (e.g., prefixing attribute names with underscores) to indicate private or protected attributes.\n",
    "Abstract Base Classes (ABCs): Defining abstract base classes with abstract methods that represent essential behaviors.\n",
    "Properties and Getter/Setter Methods: Using properties or getter/setter methods to control access to attributes and add additional logic.\n",
    "These techniques help hide the internal implementation details of data and provide a simplified interface for users to interact with."
   ]
  },
  {
   "cell_type": "markdown",
   "metadata": {},
   "source": [
    "Q5. Can we create an instance of an abstract class? Explain your answer."
   ]
  },
  {
   "cell_type": "markdown",
   "metadata": {},
   "source": [
    "Ans- \n",
    "No, we cannot create an instance of an abstract class in Python. Abstract classes are designed to serve as templates for other classes to inherit from, and they cannot be instantiated directly. Attempting to create an instance of an abstract class will result in a TypeError."
   ]
  },
  {
   "cell_type": "code",
   "execution_count": 4,
   "metadata": {},
   "outputs": [
    {
     "name": "stdout",
     "output_type": "stream",
     "text": [
      "TypeError: Can't instantiate abstract class Shape with abstract method area\n"
     ]
    }
   ],
   "source": [
    "from abc import ABC, abstractmethod\n",
    "\n",
    "class Shape(ABC):  # Abstract base class for shapes\n",
    "    @abstractmethod\n",
    "    def area(self):\n",
    "        pass\n",
    "\n",
    "class Circle(Shape):\n",
    "    def __init__(self, radius):\n",
    "        self.radius = radius\n",
    "\n",
    "    def area(self):\n",
    "        return 3.14 * self.radius * self.radius\n",
    "\n",
    "# Attempting to create an instance of the abstract class Shape\n",
    "try:\n",
    "    shape = Shape()\n",
    "except TypeError as e:\n",
    "    print(\"TypeError:\", e)\n"
   ]
  },
  {
   "cell_type": "code",
   "execution_count": null,
   "metadata": {},
   "outputs": [],
   "source": []
  }
 ],
 "metadata": {
  "kernelspec": {
   "display_name": "Python 3",
   "language": "python",
   "name": "python3"
  },
  "language_info": {
   "codemirror_mode": {
    "name": "ipython",
    "version": 3
   },
   "file_extension": ".py",
   "mimetype": "text/x-python",
   "name": "python",
   "nbconvert_exporter": "python",
   "pygments_lexer": "ipython3",
   "version": "3.11.9"
  }
 },
 "nbformat": 4,
 "nbformat_minor": 2
}
