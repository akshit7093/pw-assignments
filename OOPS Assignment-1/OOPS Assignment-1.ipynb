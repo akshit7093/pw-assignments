{
 "cells": [
  {
   "cell_type": "markdown",
   "metadata": {},
   "source": [
    "Q1. Explain Class and Object with respect to Object-Oriented Programming. Give a suitable example."
   ]
  },
  {
   "cell_type": "markdown",
   "metadata": {},
   "source": [
    "Ans- \n",
    "In object-oriented programming (OOP), a class is a blueprint for creating objects (instances). It defines the properties (attributes) and behaviors (methods) that all objects of that class will have. An object, on the other hand, is an instance of a class. It represents a particular entity that conforms to the structure and behavior defined by its class."
   ]
  },
  {
   "cell_type": "code",
   "execution_count": 1,
   "metadata": {},
   "outputs": [
    {
     "name": "stdout",
     "output_type": "stream",
     "text": [
      "Car 1: Toyota Corolla (2020)\n",
      "Car 2: Honda Civic (2019)\n",
      "Toyota Corolla engine started.\n",
      "Honda Civic engine started.\n",
      "Honda Civic engine stopped.\n"
     ]
    }
   ],
   "source": [
    "class Car:\n",
    "    def __init__(self, brand, model, year):\n",
    "        self.brand = brand\n",
    "        self.model = model\n",
    "        self.year = year\n",
    "        self.is_engine_started = False\n",
    "\n",
    "    def start_engine(self):\n",
    "        self.is_engine_started = True\n",
    "        print(f\"{self.brand} {self.model} engine started.\")\n",
    "\n",
    "    def stop_engine(self):\n",
    "        self.is_engine_started = False\n",
    "        print(f\"{self.brand} {self.model} engine stopped.\")\n",
    "\n",
    "\n",
    "car1 = Car(\"Toyota\", \"Corolla\", 2020)\n",
    "car2 = Car(\"Honda\", \"Civic\", 2019)\n",
    "\n",
    "\n",
    "print(f\"Car 1: {car1.brand} {car1.model} ({car1.year})\")\n",
    "print(f\"Car 2: {car2.brand} {car2.model} ({car2.year})\")\n",
    "\n",
    "# Calling object methods\n",
    "car1.start_engine()\n",
    "car2.start_engine()\n",
    "\n",
    "car2.stop_engine()\n"
   ]
  },
  {
   "cell_type": "markdown",
   "metadata": {},
   "source": [
    "Q2. Name the four pillars of OOPs."
   ]
  },
  {
   "cell_type": "markdown",
   "metadata": {},
   "source": [
    "Ans- The four pillars of object-oriented programming (OOP) are:\n",
    "\n",
    "Encapsulation: Bundling data and methods into a single unit (class) and hiding the internal details from the outside world.\n",
    "Abstraction: Showing only essential features of an object and hiding the complex implementation details.\n",
    "Inheritance: Allowing a new class (subclass) to inherit properties and behaviors from an existing class (superclass).\n",
    "Polymorphism: Treating objects of different classes as objects of a common superclass, enabling methods to behave differently based on the context."
   ]
  },
  {
   "cell_type": "markdown",
   "metadata": {},
   "source": [
    "Q3. Explain why the __init__() function is used. Give a suitable example."
   ]
  },
  {
   "cell_type": "markdown",
   "metadata": {},
   "source": [
    "Ans-The __init__() function in Python is used to initialize the state of an object when it is created. It sets up initial values for the object's attributes, allowing for customization and encapsulation of initialization logic within the class itself. It is automatically called when a new instance of a class is created."
   ]
  },
  {
   "cell_type": "code",
   "execution_count": 3,
   "metadata": {},
   "outputs": [
    {
     "name": "stdout",
     "output_type": "stream",
     "text": [
      "Car: Honda City (2020)\n",
      "Honda City engine started.\n"
     ]
    }
   ],
   "source": [
    "class Car:\n",
    "    def __init__(self, brand, model, year):\n",
    "        self.brand = brand\n",
    "        self.model = model\n",
    "        self.year = year\n",
    "        self.is_engine_started = False\n",
    "\n",
    "    def start_engine(self):\n",
    "        self.is_engine_started = True\n",
    "        print(f\"{self.brand} {self.model} engine started.\")\n",
    "\n",
    "    def stop_engine(self):\n",
    "        self.is_engine_started = False\n",
    "        print(f\"{self.brand} {self.model} engine stopped.\")\n",
    "\n",
    "car = Car(\"Honda\", \"City\", 2020)\n",
    "\n",
    "print(f\"Car: {car.brand} {car.model} ({car.year})\")\n",
    "\n",
    "car.start_engine()\n"
   ]
  },
  {
   "cell_type": "markdown",
   "metadata": {},
   "source": [
    "Q4. Why self is used in OOPs?"
   ]
  },
  {
   "cell_type": "markdown",
   "metadata": {},
   "source": [
    "Ans- self is used in object-oriented programming (OOP) in Python to refer to the instance of the class itself within instance methods. It allows methods to access and manipulate the object's attributes and methods, enabling instance-specific operations and method invocation."
   ]
  },
  {
   "cell_type": "markdown",
   "metadata": {},
   "source": [
    "Q5. What is inheritance? Give an example for each type of inheritance."
   ]
  },
  {
   "cell_type": "markdown",
   "metadata": {},
   "source": [
    "Ans-Inheritance in object-oriented programming (OOP) allows a subclass to inherit attributes and methods from a superclass, promoting code reuse and hierarchical organization of classes."
   ]
  },
  {
   "cell_type": "code",
   "execution_count": 5,
   "metadata": {},
   "outputs": [
    {
     "name": "stdout",
     "output_type": "stream",
     "text": [
      "Animal makes a sound\n",
      "Bark bark!\n"
     ]
    }
   ],
   "source": [
    "# Single Inheritance:\n",
    "class Animal:\n",
    "    def sound(self):\n",
    "        print(\"Animal makes a sound\")\n",
    "\n",
    "class Dog(Animal):  \n",
    "    def bark(self):\n",
    "        print(\"Bark bark!\")\n",
    "\n",
    "dog = Dog()\n",
    "dog.sound()  \n",
    "dog.bark()   \n"
   ]
  },
  {
   "cell_type": "code",
   "execution_count": 6,
   "metadata": {},
   "outputs": [
    {
     "name": "stdout",
     "output_type": "stream",
     "text": [
      "Method A\n",
      "Method B\n",
      "Method C\n"
     ]
    }
   ],
   "source": [
    "# Multiple Inheritance:\n",
    "class A:\n",
    "    def method_A(self):\n",
    "        print(\"Method A\")\n",
    "\n",
    "class B:\n",
    "    def method_B(self):\n",
    "        print(\"Method B\")\n",
    "\n",
    "class C(A, B):  \n",
    "    def method_C(self):\n",
    "        print(\"Method C\")\n",
    "\n",
    "obj = C()\n",
    "obj.method_A()  \n",
    "obj.method_B()  \n",
    "obj.method_C()  \n"
   ]
  },
  {
   "cell_type": "code",
   "execution_count": 7,
   "metadata": {},
   "outputs": [
    {
     "name": "stdout",
     "output_type": "stream",
     "text": [
      "Animal makes a sound\n",
      "Bark bark!\n",
      "Animal makes a sound\n",
      "Meow!\n"
     ]
    }
   ],
   "source": [
    "# Hierarchical Inheritance:\n",
    "class Animal:\n",
    "    def sound(self):\n",
    "        print(\"Animal makes a sound\")\n",
    "\n",
    "class Dog(Animal):  \n",
    "    def bark(self):\n",
    "        print(\"Bark bark!\")\n",
    "\n",
    "class Cat(Animal):  \n",
    "    def meow(self):\n",
    "        print(\"Meow!\")\n",
    "\n",
    "dog = Dog()\n",
    "cat = Cat()\n",
    "\n",
    "dog.sound()  \n",
    "dog.bark()   \n",
    "\n",
    "cat.sound()  \n",
    "cat.meow()   \n"
   ]
  },
  {
   "cell_type": "code",
   "execution_count": null,
   "metadata": {},
   "outputs": [],
   "source": []
  }
 ],
 "metadata": {
  "kernelspec": {
   "display_name": "Python 3",
   "language": "python",
   "name": "python3"
  },
  "language_info": {
   "codemirror_mode": {
    "name": "ipython",
    "version": 3
   },
   "file_extension": ".py",
   "mimetype": "text/x-python",
   "name": "python",
   "nbconvert_exporter": "python",
   "pygments_lexer": "ipython3",
   "version": "3.11.9"
  }
 },
 "nbformat": 4,
 "nbformat_minor": 2
}
