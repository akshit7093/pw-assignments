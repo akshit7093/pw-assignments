{
 "cells": [
  {
   "cell_type": "code",
   "execution_count": 2,
   "metadata": {},
   "outputs": [],
   "source": [
    "import pandas as pd"
   ]
  },
  {
   "cell_type": "markdown",
   "metadata": {},
   "source": [
    "Q1. List any five functions of the pandas library with execution."
   ]
  },
  {
   "cell_type": "code",
   "execution_count": 3,
   "metadata": {},
   "outputs": [
    {
     "name": "stdout",
     "output_type": "stream",
     "text": [
      "head():\n",
      "    A  B  C\n",
      "0  1  4  7\n",
      "1  2  5  8\n",
      "2  3  6  9 \n",
      "\n",
      "info():\n",
      "\n",
      "<class 'pandas.core.frame.DataFrame'>\n",
      "RangeIndex: 3 entries, 0 to 2\n",
      "Data columns (total 3 columns):\n",
      " #   Column  Non-Null Count  Dtype\n",
      "---  ------  --------------  -----\n",
      " 0   A       3 non-null      int64\n",
      " 1   B       3 non-null      int64\n",
      " 2   C       3 non-null      int64\n",
      "dtypes: int64(3)\n",
      "memory usage: 204.0 bytes\n",
      "\n",
      "\n",
      "describe():\n",
      "          A    B    C\n",
      "count  3.0  3.0  3.0\n",
      "mean   2.0  5.0  8.0\n",
      "std    1.0  1.0  1.0\n",
      "min    1.0  4.0  7.0\n",
      "25%    1.5  4.5  7.5\n",
      "50%    2.0  5.0  8.0\n",
      "75%    2.5  5.5  8.5\n",
      "max    3.0  6.0  9.0 \n",
      "\n",
      "isnull():\n",
      "        A      B      C\n",
      "0  False  False  False\n",
      "1  False  False  False\n",
      "2  False  False  False \n",
      "\n",
      "dropna():\n",
      "    A  B  C\n",
      "0  1  4  7\n",
      "1  2  5  8\n",
      "2  3  6  9 \n",
      "\n"
     ]
    }
   ],
   "source": [
    "import pandas as pd\n",
    "\n",
    "# Creating a sample DataFrame\n",
    "data = {'A': [1, 2, 3], 'B': [4, 5, 6], 'C': [7, 8, 9]}\n",
    "df = pd.DataFrame(data)\n",
    "\n",
    "# 1. head() - Return the first n rows of the DataFrame\n",
    "print(\"head():\\n\", df.head(), \"\\n\")\n",
    "\n",
    "# 2. info() - Print a concise summary of a DataFrame\n",
    "print(\"info():\\n\")\n",
    "df.info()\n",
    "print(\"\\n\")\n",
    "\n",
    "# 3. describe() - Generate descriptive statistics\n",
    "print(\"describe():\\n\", df.describe(), \"\\n\")\n",
    "\n",
    "# 4. isnull() - Detect missing values\n",
    "print(\"isnull():\\n\", df.isnull(), \"\\n\")\n",
    "\n",
    "# 5. dropna() - Remove missing values\n",
    "print(\"dropna():\\n\", df.dropna(), \"\\n\")\n"
   ]
  },
  {
   "cell_type": "markdown",
   "metadata": {},
   "source": [
    "Q2. Re-index the DataFrame with a new index that starts from 1 and increments by 2 for each row."
   ]
  },
  {
   "cell_type": "code",
   "execution_count": 4,
   "metadata": {},
   "outputs": [
    {
     "name": "stdout",
     "output_type": "stream",
     "text": [
      "Re-indexed DataFrame:\n",
      "    A  B  C\n",
      "1  1  4  7\n",
      "3  2  5  8\n",
      "5  3  6  9 \n",
      "\n"
     ]
    }
   ],
   "source": [
    "def reindex_df(df):\n",
    "    df.index = range(1, 2 * len(df) + 1, 2)\n",
    "    return df\n",
    "\n",
    "# Creating a sample DataFrame\n",
    "df = pd.DataFrame(data)\n",
    "print(\"Re-indexed DataFrame:\\n\", reindex_df(df), \"\\n\")\n"
   ]
  },
  {
   "cell_type": "markdown",
   "metadata": {},
   "source": [
    "Q3. Calculate the sum of the first three values in the 'Values' column."
   ]
  },
  {
   "cell_type": "code",
   "execution_count": 5,
   "metadata": {},
   "outputs": [
    {
     "name": "stdout",
     "output_type": "stream",
     "text": [
      "Sum of first three values: 60 \n",
      "\n"
     ]
    }
   ],
   "source": [
    "def sum_first_three_values(df):\n",
    "    return df['Values'].head(3).sum()\n",
    "\n",
    "# Creating a sample DataFrame\n",
    "data = {'Values': [10, 20, 30, 40, 50]}\n",
    "df = pd.DataFrame(data)\n",
    "print(\"Sum of first three values:\", sum_first_three_values(df), \"\\n\")\n"
   ]
  },
  {
   "cell_type": "markdown",
   "metadata": {},
   "source": [
    "Q4. Create a new column 'Word_Count' that contains the number of words in each row of the 'Text' column.\n"
   ]
  },
  {
   "cell_type": "code",
   "execution_count": 6,
   "metadata": {},
   "outputs": [
    {
     "name": "stdout",
     "output_type": "stream",
     "text": [
      "DataFrame with Word_Count:\n",
      "               Text  Word_Count\n",
      "0      Hello world           2\n",
      "1  Pandas is great           3\n",
      "2    I love Python           3 \n",
      "\n"
     ]
    }
   ],
   "source": [
    "def add_word_count(df):\n",
    "    df['Word_Count'] = df['Text'].apply(lambda x: len(str(x).split()))\n",
    "    return df\n",
    "\n",
    "# Creating a sample DataFrame\n",
    "data = {'Text': [\"Hello world\", \"Pandas is great\", \"I love Python\"]}\n",
    "df = pd.DataFrame(data)\n",
    "print(\"DataFrame with Word_Count:\\n\", add_word_count(df), \"\\n\")\n"
   ]
  },
  {
   "cell_type": "markdown",
   "metadata": {},
   "source": [
    "Q5. Difference between DataFrame.size() and DataFrame.shape()."
   ]
  },
  {
   "cell_type": "code",
   "execution_count": 10,
   "metadata": {},
   "outputs": [
    {
     "name": "stdout",
     "output_type": "stream",
     "text": [
      "              Text  Word_Count\n",
      "0      Hello world           2\n",
      "1  Pandas is great           3\n",
      "2    I love Python           3\n",
      "DataFrame.size: 6\n",
      "DataFrame.shape: (3, 2)\n"
     ]
    }
   ],
   "source": [
    "print(df )# DataFrame\n",
    "# DataFrame.size returns the number of elements in the DataFrame\n",
    "print(\"DataFrame.size:\", df.size)\n",
    "\n",
    "# DataFrame.shape returns a tuple representing the dimensionality of the DataFrame\n",
    "print(\"DataFrame.shape:\", df.shape)\n"
   ]
  },
  {
   "cell_type": "markdown",
   "metadata": {},
   "source": [
    "Q6. Which function of pandas do we use to read an Excel file?"
   ]
  },
  {
   "cell_type": "code",
   "execution_count": 13,
   "metadata": {},
   "outputs": [
    {
     "name": "stdout",
     "output_type": "stream",
     "text": [
      "Synthetic dataset saved to 'synthetic_dataset.xlsx'\n",
      "     ID  Age  Salary   Department  Join_Date\n",
      "0     1   56   91228      Finance 2023-02-06\n",
      "1     2   69   78984  Engineering 2023-06-09\n",
      "2     3   46   70774           HR 2023-01-09\n",
      "3     4   32   32568           HR 2023-08-21\n",
      "4     5   60   92592           HR 2023-04-09\n",
      "..  ...  ...     ...          ...        ...\n",
      "95   96   42   69353           HR 2023-10-15\n",
      "96   97   62   92003    Marketing 2023-12-08\n",
      "97   98   58  113211      Finance 2023-05-31\n",
      "98   99   46   82733    Marketing 2023-05-07\n",
      "99  100   32   95318           HR 2023-06-04\n",
      "\n",
      "[100 rows x 5 columns]\n"
     ]
    }
   ],
   "source": [
    "import numpy as np\n",
    "import pandas as pd\n",
    "\n",
    "# Set random seed for reproducibility\n",
    "np.random.seed(42)\n",
    "\n",
    "# Generate a synthetic dataset\n",
    "num_rows = 100\n",
    "data = {\n",
    "    'ID': np.arange(1, num_rows + 1),\n",
    "    'Age': np.random.randint(18, 70, size=num_rows),\n",
    "    'Salary': np.random.randint(30000, 120000, size=num_rows),\n",
    "    'Department': np.random.choice(['HR', 'Finance', 'Engineering', 'Marketing'], size=num_rows),\n",
    "    'Join_Date': pd.to_datetime('2023-01-01') + pd.to_timedelta(np.random.randint(0, 365, size=num_rows), unit='D')\n",
    "}\n",
    "\n",
    "# Create a DataFrame\n",
    "df = pd.DataFrame(data)\n",
    "\n",
    "# Save the DataFrame to an Excel file\n",
    "df.to_excel('synthetic_dataset.xlsx', index=False)\n",
    "\n",
    "print(\"Synthetic dataset saved to 'synthetic_dataset.xlsx'\")\n",
    "\n",
    "# The function used to read an Excel file is read_excel()\n",
    "# Example:\n",
    "df = pd.read_excel('synthetic_dataset.xlsx')\n",
    "print(df)\n"
   ]
  },
  {
   "cell_type": "markdown",
   "metadata": {},
   "source": [
    "Q7. Create a new column 'Username' in df that contains only the username part of each email address."
   ]
  },
  {
   "cell_type": "code",
   "execution_count": 14,
   "metadata": {},
   "outputs": [
    {
     "name": "stdout",
     "output_type": "stream",
     "text": [
      "DataFrame with Username:\n",
      "                        Email         Username\n",
      "0  akshitsharma093@gmail.com  akshitsharma093\n",
      "1           akshit@gmail.com           akshit \n",
      "\n"
     ]
    }
   ],
   "source": [
    "def extract_usernames(df):\n",
    "    df['Username'] = df['Email'].apply(lambda x: x.split('@')[0])\n",
    "    return df\n",
    "\n",
    "# Creating a sample DataFrame\n",
    "data = {'Email': [\"akshitsharma093@gmail.com\", \"akshit@gmail.com\"]}\n",
    "df = pd.DataFrame(data)\n",
    "print(\"DataFrame with Username:\\n\", extract_usernames(df), \"\\n\")\n"
   ]
  },
  {
   "cell_type": "markdown",
   "metadata": {},
   "source": [
    "Q8. Select all rows where the value in column 'A' is greater than 5 and the value in column 'B' is less than 10."
   ]
  },
  {
   "cell_type": "code",
   "execution_count": 16,
   "metadata": {},
   "outputs": [
    {
     "name": "stdout",
     "output_type": "stream",
     "text": [
      "Filtered DataFrame:\n",
      "    A  B  C\n",
      "1  8  2  7\n",
      "2  6  9  4\n",
      "4  9  1  2 \n",
      "\n"
     ]
    }
   ],
   "source": [
    "def filter_rows(df):\n",
    "    return df[(df['A'] > 5) & (df['B'] < 10)]\n",
    "\n",
    "# Creating a sample DataFrame\n",
    "data = {'A': [3, 8, 6, 2, 9], 'B': [5, 2, 9, 3, 1], 'C': [1, 7, 4, 5, 2]}\n",
    "df = pd.DataFrame(data)\n",
    "print(\"Filtered DataFrame:\\n\", filter_rows(df), \"\\n\")\n"
   ]
  },
  {
   "cell_type": "markdown",
   "metadata": {},
   "source": [
    "Q9. Calculate the mean, median, and standard deviation of the values in the 'Values' column."
   ]
  },
  {
   "cell_type": "code",
   "execution_count": 20,
   "metadata": {},
   "outputs": [
    {
     "name": "stdout",
     "output_type": "stream",
     "text": [
      "Mean: 30.0, Median: 30.0, Standard Deviation: 15.811388300841896\n",
      "\n"
     ]
    }
   ],
   "source": [
    "def calculate_statistics(df):\n",
    "    mean = df['Values'].mean()\n",
    "    median = df['Values'].median()\n",
    "    std_dev = df['Values'].std()\n",
    "    return mean, median, std_dev\n",
    "\n",
    "\n",
    "# Creating a sample DataFrame\n",
    "data = {'Values': [10, 20, 30, 40, 50]}\n",
    "df = pd.DataFrame(data)\n",
    "mean, median, std_dev = calculate_statistics(df)\n",
    "print(f\"Mean: {mean}, Median: {median}, Standard Deviation: {std_dev}\\n\")\n",
    "\n"
   ]
  },
  {
   "cell_type": "markdown",
   "metadata": {},
   "source": [
    "Q10. Create a new column 'MovingAverage' that contains the moving average of the sales for the past 7 days."
   ]
  },
  {
   "cell_type": "code",
   "execution_count": 22,
   "metadata": {},
   "outputs": [
    {
     "name": "stdout",
     "output_type": "stream",
     "text": [
      "DataFrame with MovingAverage:\n",
      "          Date  Sales  MovingAverage\n",
      "0  2023-01-01      1            NaN\n",
      "1  2023-01-02      2            NaN\n",
      "2  2023-01-03      3            NaN\n",
      "3  2023-01-04      4            NaN\n",
      "4  2023-01-05      5            NaN\n",
      "5  2023-01-06      6            NaN\n",
      "6  2023-01-07      7            4.0\n",
      "7  2023-01-08      8            5.0\n",
      "8  2023-01-09      9            6.0\n",
      "9  2023-01-10     10            7.0\n",
      "10 2023-01-11     11            8.0\n",
      "11 2023-01-12     12            9.0\n",
      "12 2023-01-13     13           10.0\n",
      "13 2023-01-14     14           11.0 \n",
      "\n"
     ]
    }
   ],
   "source": [
    "def add_moving_average(df):\n",
    "    df['MovingAverage'] = df['Sales'].rolling(window=7).mean()\n",
    "    return df\n",
    "\n",
    "# Creating a sample DataFrame\n",
    "data = {'Date': pd.date_range(start='2023-01-01', periods=14, freq='D'), 'Sales': range(1, 15)}\n",
    "df = pd.DataFrame(data)\n",
    "print(\"DataFrame with MovingAverage:\\n\", add_moving_average(df), \"\\n\")\n"
   ]
  },
  {
   "cell_type": "markdown",
   "metadata": {},
   "source": [
    "Q11. Create a new column 'Weekday' in the DataFrame that contains the weekday name corresponding to each date in the 'Date' column."
   ]
  },
  {
   "cell_type": "code",
   "execution_count": 23,
   "metadata": {},
   "outputs": [
    {
     "name": "stdout",
     "output_type": "stream",
     "text": [
      "DataFrame with Weekday:\n",
      "         Date    Weekday\n",
      "0 2023-01-01     Sunday\n",
      "1 2023-01-02     Monday\n",
      "2 2023-01-03    Tuesday\n",
      "3 2023-01-04  Wednesday\n",
      "4 2023-01-05   Thursday \n",
      "\n"
     ]
    }
   ],
   "source": [
    "def add_weekday(df):\n",
    "    df['Weekday'] = df['Date'].dt.day_name()\n",
    "    return df\n",
    "\n",
    "# Creating a sample DataFrame\n",
    "data = {'Date': pd.date_range(start='2023-01-01', periods=5, freq='D')}\n",
    "df = pd.DataFrame(data)\n",
    "print(\"DataFrame with Weekday:\\n\", add_weekday(df), \"\\n\")\n"
   ]
  },
  {
   "cell_type": "markdown",
   "metadata": {},
   "source": [
    "Q12. Select all rows where the date is between '2023-01-01' and '2023-01-31'."
   ]
  },
  {
   "cell_type": "code",
   "execution_count": 24,
   "metadata": {},
   "outputs": [
    {
     "name": "stdout",
     "output_type": "stream",
     "text": [
      "DataFrame with dates between 2023-01-01 and 2023-01-31:\n",
      "          Date\n",
      "0  2023-01-01\n",
      "1  2023-01-02\n",
      "2  2023-01-03\n",
      "3  2023-01-04\n",
      "4  2023-01-05\n",
      "5  2023-01-06\n",
      "6  2023-01-07\n",
      "7  2023-01-08\n",
      "8  2023-01-09\n",
      "9  2023-01-10\n",
      "10 2023-01-11\n",
      "11 2023-01-12\n",
      "12 2023-01-13\n",
      "13 2023-01-14\n",
      "14 2023-01-15\n",
      "15 2023-01-16\n",
      "16 2023-01-17\n",
      "17 2023-01-18\n",
      "18 2023-01-19\n",
      "19 2023-01-20\n",
      "20 2023-01-21\n",
      "21 2023-01-22\n",
      "22 2023-01-23\n",
      "23 2023-01-24\n",
      "24 2023-01-25\n",
      "25 2023-01-26\n",
      "26 2023-01-27\n",
      "27 2023-01-28\n",
      "28 2023-01-29\n",
      "29 2023-01-30\n",
      "30 2023-01-31 \n",
      "\n"
     ]
    }
   ],
   "source": [
    "def select_date_range(df):\n",
    "    mask = (df['Date'] >= '2023-01-01') & (df['Date'] <= '2023-01-31')\n",
    "    return df.loc[mask]\n",
    "\n",
    "# Creating a sample DataFrame\n",
    "data = {'Date': pd.date_range(start='2023-01-01', periods=60, freq='D')}\n",
    "df = pd.DataFrame(data)\n",
    "print(\"DataFrame with dates between 2023-01-01 and 2023-01-31:\\n\", select_date_range(df), \"\\n\")\n"
   ]
  },
  {
   "cell_type": "markdown",
   "metadata": {},
   "source": [
    "Q13. To use the basic functions of pandas, what is the first and foremost necessary library that needs to be imported?"
   ]
  },
  {
   "cell_type": "code",
   "execution_count": 25,
   "metadata": {},
   "outputs": [],
   "source": [
    "# The first and foremost necessary library that needs to be imported is pandas\n",
    "import pandas as pd\n"
   ]
  },
  {
   "cell_type": "code",
   "execution_count": null,
   "metadata": {},
   "outputs": [],
   "source": []
  }
 ],
 "metadata": {
  "kernelspec": {
   "display_name": "Python 3",
   "language": "python",
   "name": "python3"
  },
  "language_info": {
   "codemirror_mode": {
    "name": "ipython",
    "version": 3
   },
   "file_extension": ".py",
   "mimetype": "text/x-python",
   "name": "python",
   "nbconvert_exporter": "python",
   "pygments_lexer": "ipython3",
   "version": "3.11.9"
  }
 },
 "nbformat": 4,
 "nbformat_minor": 2
}
